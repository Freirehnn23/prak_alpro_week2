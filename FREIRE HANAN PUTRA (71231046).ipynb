{
 "cells": [
  {
   "cell_type": "code",
   "execution_count": 1,
   "id": "34613db4",
   "metadata": {},
   "outputs": [
    {
     "name": "stdout",
     "output_type": "stream",
     "text": [
      "Masukan BMI yang diinginkan: 25\n",
      "Masukan tinggi badan anda saat ini dalam cm: 175\n",
      "berat badan yang diperlukan untuk mencapai BMI 25.0 adalah: 76.56\n"
     ]
    }
   ],
   "source": [
    "berat = float(input('Masukan BMI yang diinginkan: '))\n",
    "tinggi = int(input(\"Masukan tinggi badan anda saat ini dalam cm: \"))\n",
    "konvert_tinggi = tinggi / 100\n",
    "bmi = berat * (konvert_tinggi ** 2)\n",
    "\n",
    "print(f\"berat badan yang diperlukan untuk mencapai BMI {berat} adalah: {bmi:.2f}\") "
   ]
  },
  {
   "cell_type": "code",
   "execution_count": 2,
   "id": "b4fe1bf3",
   "metadata": {},
   "outputs": [
    {
     "name": "stdout",
     "output_type": "stream",
     "text": [
      "Masukan Nilai dari X: 5\n",
      "Nilai f(x) dari x yang anda inputkan adalah:  263.0\n"
     ]
    }
   ],
   "source": [
    "x = int(input(\"Masukan Nilai dari X: \"))\n",
    "fungsi = (2*x**3) + (2 * x) + (15/x)\n",
    "print(\"Nilai f(x) dari x yang anda inputkan adalah: \", fungsi)"
   ]
  },
  {
   "cell_type": "code",
   "execution_count": 3,
   "id": "bb738b27",
   "metadata": {},
   "outputs": [
    {
     "name": "stdout",
     "output_type": "stream",
     "text": [
      "Masukan gaji perjam yang diinginkan: 5000\n",
      "Masukan total jam kerja dalam satu minggu: 200\n",
      "=======================================\n",
      "Pendapatan Budi sebelum bayar pajak 5000000\n",
      "Pendapatan Budi setelah bayar pajak adalah:  4300000.0\n",
      "Budget budi untuk membeli pakaian dan aksesoris adalah:  430000.0\n",
      "Budget budi untuk membeli ATK adalah: 43000.0\n",
      "Budget budi untuk sedekah adalah: 956750.0\n",
      "Sedekah yang diterima yatim adalah: 287025.0\n",
      "Sedekah yang diterima duafa adalah: 669725.0\n"
     ]
    }
   ],
   "source": [
    "pajak = 14/100\n",
    "beli_baju = 10/100\n",
    "beli_atk = 1/100\n",
    "sedekah = 25/100\n",
    "\n",
    "gaji_perjam = int(input(\"Masukan gaji perjam yang diinginkan: \"))\n",
    "jumlah_jam_kerja = int(input(\"Masukan total jam kerja dalam satu minggu: \"))\n",
    "\n",
    "print(\"=======================================\")\n",
    "total_pendapatan_kotor = (gaji_perjam * jumlah_jam_kerja) * 5\n",
    "setelah_pajak = total_pendapatan_kotor -  (total_pendapatan_kotor * pajak)\n",
    "pakaian_aksesoris = setelah_pajak * beli_baju\n",
    "untuk_atk = setelah_pajak * beli_atk\n",
    "sisa_uang_sementara = setelah_pajak - pakaian_aksesoris - untuk_atk\n",
    "untuk_sedekah = sisa_uang_sementara * sedekah\n",
    "diterima_yatim = untuk_sedekah * 30/100\n",
    "diterima_duafa = untuk_sedekah * 70/100\n",
    "\n",
    "print(\"Pendapatan Budi sebelum bayar pajak\", total_pendapatan_kotor)\n",
    "print(\"Pendapatan Budi setelah bayar pajak adalah: \", (setelah_pajak))\n",
    "print(\"Budget budi untuk membeli pakaian dan aksesoris adalah: \", (pakaian_aksesoris))\n",
    "print(\"Budget budi untuk membeli ATK adalah:\", (untuk_atk))\n",
    "print(\"Budget budi untuk sedekah adalah:\", (untuk_sedekah))\n",
    "print(\"Sedekah yang diterima yatim adalah:\", (diterima_yatim))\n",
    "print(\"Sedekah yang diterima duafa adalah:\", (diterima_duafa))\n"
   ]
  },
  {
   "cell_type": "code",
   "execution_count": null,
   "id": "4e23113f",
   "metadata": {},
   "outputs": [],
   "source": []
  }
 ],
 "metadata": {
  "kernelspec": {
   "display_name": "Python 3 (ipykernel)",
   "language": "python",
   "name": "python3"
  },
  "language_info": {
   "codemirror_mode": {
    "name": "ipython",
    "version": 3
   },
   "file_extension": ".py",
   "mimetype": "text/x-python",
   "name": "python",
   "nbconvert_exporter": "python",
   "pygments_lexer": "ipython3",
   "version": "3.11.5"
  }
 },
 "nbformat": 4,
 "nbformat_minor": 5
}
